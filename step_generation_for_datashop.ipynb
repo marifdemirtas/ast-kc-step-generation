{
 "cells": [
  {
   "cell_type": "markdown",
   "id": "6ad2b754",
   "metadata": {},
   "source": [
    "## Setting Custom Parameters"
   ]
  },
  {
   "cell_type": "markdown",
   "id": "bb9ef3a2",
   "metadata": {},
   "source": [
    "Modify the following parameters according to your folder organization. Example files for each folder can be found in this repository."
   ]
  },
  {
   "cell_type": "code",
   "execution_count": 1,
   "id": "8f81722d",
   "metadata": {},
   "outputs": [],
   "source": [
    "INSTRUCTOR_SOLUTIONS = \"./instructor_solutions\"\n",
    "STUDENT_INTERACTION_DATA = \"./student_interaction_data\"\n",
    "OUTPUT_FOLDER = \"./datasets/experiment\""
   ]
  },
  {
   "cell_type": "markdown",
   "id": "57cdd8cd",
   "metadata": {},
   "source": [
    "Select the number of students to be sampled from the set. Must be less than the total number of students in the dataset."
   ]
  },
  {
   "cell_type": "code",
   "execution_count": 2,
   "id": "7d9017c5",
   "metadata": {},
   "outputs": [],
   "source": [
    "STUDENT_SAMPLE_SIZE = 400"
   ]
  },
  {
   "cell_type": "markdown",
   "id": "ee2704da",
   "metadata": {},
   "source": [
    "List of semesters the data was collected from. Must match the names of the subfolders in STUDENT_INTERACTION_DATA."
   ]
  },
  {
   "cell_type": "code",
   "execution_count": 3,
   "id": "de30a391",
   "metadata": {},
   "outputs": [],
   "source": [
    "LIST_OF_SEMESTERS = ['semester']"
   ]
  },
  {
   "cell_type": "markdown",
   "id": "58c68464",
   "metadata": {},
   "source": [
    "## Imports"
   ]
  },
  {
   "cell_type": "code",
   "execution_count": 4,
   "id": "ad8f5fff",
   "metadata": {},
   "outputs": [],
   "source": [
    "import os\n",
    "\n",
    "import numpy as np\n",
    "import pandas as pd\n",
    "\n",
    "from tqdm.auto import tqdm\n",
    "from graphs import *"
   ]
  },
  {
   "cell_type": "markdown",
   "id": "81a671b2",
   "metadata": {},
   "source": [
    "## Generate ASTs for Solution Space"
   ]
  },
  {
   "cell_type": "code",
   "execution_count": 5,
   "id": "3aa716e6",
   "metadata": {},
   "outputs": [
    {
     "data": {
      "application/vnd.jupyter.widget-view+json": {
       "model_id": "f99e7fb58daf4489b9eb864c290af892",
       "version_major": 2,
       "version_minor": 0
      },
      "text/plain": [
       "  0%|          | 0/461 [00:00<?, ?it/s]"
      ]
     },
     "metadata": {},
     "output_type": "display_data"
    }
   ],
   "source": [
    "sol_path = INSTRUCTOR_SOLUTIONS\n",
    "sol_trees = {}\n",
    "solutions = {}\n",
    "for file in tqdm(os.listdir(sol_path)):\n",
    "    try:\n",
    "        with open(os.path.join(sol_path, file), 'rb') as f:\n",
    "            program = f.read().decode(\"utf-8-sig\").encode(\"utf-8\")\n",
    "        solutions[file[:-3]] = [program]\n",
    "    except:\n",
    "        print(\"Error while reading instructor solution:\", file)"
   ]
  },
  {
   "cell_type": "code",
   "execution_count": 6,
   "id": "89a044e2",
   "metadata": {},
   "outputs": [],
   "source": [
    "def return_correct_submissions(problemName):\n",
    "    '''\n",
    "    Helper function for filtering a DataFrame for correct student submissions.\n",
    "    '''\n",
    "    return data[(data['Score'] == 1.0) & (data['ProblemName'] == problemName)]['Input'].unique()"
   ]
  },
  {
   "cell_type": "code",
   "execution_count": 7,
   "id": "e08453a4",
   "metadata": {
    "scrolled": true
   },
   "outputs": [
    {
     "data": {
      "application/vnd.jupyter.widget-view+json": {
       "model_id": "726badeec0ff4f4baa62d2ef58f64463",
       "version_major": 2,
       "version_minor": 0
      },
      "text/plain": [
       "  0%|          | 0/13 [00:00<?, ?it/s]"
      ]
     },
     "metadata": {},
     "output_type": "display_data"
    },
    {
     "name": "stdout",
     "output_type": "stream",
     "text": [
      "Error while collecting the solutions for problem: progPrint_F\n",
      "Error while collecting the solutions for problem: progReturnSpecificNumber\n"
     ]
    },
    {
     "data": {
      "application/vnd.jupyter.widget-view+json": {
       "model_id": "08960fd6b90c45ed8ed43c5d0a0ea608",
       "version_major": 2,
       "version_minor": 0
      },
      "text/plain": [
       "  0%|          | 0/13 [00:00<?, ?it/s]"
      ]
     },
     "metadata": {},
     "output_type": "display_data"
    },
    {
     "name": "stdout",
     "output_type": "stream",
     "text": [
      "Error while collecting the solutions for problem: progPrint\n",
      "Error while collecting the solutions for problem: progReturnSpecificNumber\n"
     ]
    },
    {
     "data": {
      "application/vnd.jupyter.widget-view+json": {
       "model_id": "dff50bb813fd44c99c25fb74e84e6f40",
       "version_major": 2,
       "version_minor": 0
      },
      "text/plain": [
       "  0%|          | 0/13 [00:00<?, ?it/s]"
      ]
     },
     "metadata": {},
     "output_type": "display_data"
    },
    {
     "name": "stdout",
     "output_type": "stream",
     "text": [
      "Error while collecting the solutions for problem: progPrint_C\n",
      "Error while collecting the solutions for problem: progReturnSpecificNumber\n"
     ]
    },
    {
     "data": {
      "application/vnd.jupyter.widget-view+json": {
       "model_id": "6c6bd2c9092849c5b87939ff8d159fc4",
       "version_major": 2,
       "version_minor": 0
      },
      "text/plain": [
       "  0%|          | 0/13 [00:00<?, ?it/s]"
      ]
     },
     "metadata": {},
     "output_type": "display_data"
    },
    {
     "name": "stdout",
     "output_type": "stream",
     "text": [
      "Error while collecting the solutions for problem: progPrint\n",
      "Error while collecting the solutions for problem: progReturnSpecificNumber\n"
     ]
    },
    {
     "data": {
      "application/vnd.jupyter.widget-view+json": {
       "model_id": "0a6e43fcd44a4f09ac2bc2d5611c8679",
       "version_major": 2,
       "version_minor": 0
      },
      "text/plain": [
       "  0%|          | 0/15 [00:00<?, ?it/s]"
      ]
     },
     "metadata": {},
     "output_type": "display_data"
    },
    {
     "name": "stdout",
     "output_type": "stream",
     "text": [
      "Error while collecting the solutions for problem: progPrint\n"
     ]
    },
    {
     "data": {
      "application/vnd.jupyter.widget-view+json": {
       "model_id": "f539bb395d7640129b086743d3e28366",
       "version_major": 2,
       "version_minor": 0
      },
      "text/plain": [
       "  0%|          | 0/14 [00:00<?, ?it/s]"
      ]
     },
     "metadata": {},
     "output_type": "display_data"
    },
    {
     "name": "stdout",
     "output_type": "stream",
     "text": [
      "Error while collecting the solutions for problem: progPrint\n",
      "Error while collecting the solutions for problem: progReturnSpecificNumber\n"
     ]
    },
    {
     "data": {
      "application/vnd.jupyter.widget-view+json": {
       "model_id": "90f45d242a454bc68672a57eade20525",
       "version_major": 2,
       "version_minor": 0
      },
      "text/plain": [
       "  0%|          | 0/13 [00:00<?, ?it/s]"
      ]
     },
     "metadata": {},
     "output_type": "display_data"
    },
    {
     "name": "stdout",
     "output_type": "stream",
     "text": [
      "Error while collecting the solutions for problem: progPrint_F\n",
      "Error while collecting the solutions for problem: progReturnSpecificNumber\n"
     ]
    }
   ],
   "source": [
    "for root, dirs, files in os.walk(STUDENT_INTERACTION_DATA):\n",
    "    if len(dirs) > 0:\n",
    "        continue\n",
    "    users = {} \n",
    "    np.random.seed(42)\n",
    "    random_set = None\n",
    "    for file in tqdm(files):\n",
    "        data = pd.read_csv(os.path.join(root, file))\n",
    "        if len(data) <= 0:\n",
    "            continue\n",
    "        for problemName in data['ProblemName'].unique():\n",
    "            problemInput = return_correct_submissions(problemName)\n",
    "            try:\n",
    "                solutions[problemName].extend(problemInput)\n",
    "            except:\n",
    "                print(\"Error while collecting the solutions for problem:\", problemName)"
   ]
  },
  {
   "cell_type": "code",
   "execution_count": 8,
   "id": "2143a466",
   "metadata": {
    "scrolled": true
   },
   "outputs": [
    {
     "data": {
      "application/vnd.jupyter.widget-view+json": {
       "model_id": "6dc901c3fbfa487eb9a1e0c2cdd40cc7",
       "version_major": 2,
       "version_minor": 0
      },
      "text/plain": [
       "  0%|          | 0/461 [00:00<?, ?it/s]"
      ]
     },
     "metadata": {},
     "output_type": "display_data"
    },
    {
     "name": "stdout",
     "output_type": "stream",
     "text": [
      "Error while parsing AST - returning empty tree...\n",
      "Error while parsing AST - returning empty tree...\n",
      "Error while parsing AST - returning empty tree...\n",
      "Error while parsing AST - returning empty tree...\n",
      "Error while parsing AST - returning empty tree...\n",
      "Error while parsing AST - returning empty tree...\n",
      "Error while parsing AST - returning empty tree...\n",
      "Error while parsing AST - returning empty tree...\n",
      "Error while parsing AST - returning empty tree...\n",
      "Error while parsing AST - returning empty tree...\n"
     ]
    }
   ],
   "source": [
    "solutions_embedded = {}\n",
    "solutions_traversal = {}\n",
    "tfidf_params = {}\n",
    "for problem in tqdm(solutions):\n",
    "    def parser_handler(content):\n",
    "        try:\n",
    "            return ast.parse(content)\n",
    "        except:\n",
    "            print(\"Error while parsing AST - returning empty tree...\")\n",
    "            return ast.Module()\n",
    "    ast_trees = [parser_handler(solution) for solution in solutions[problem]]\n",
    "    tfidf_vectors, all_nodes, idf = compute_tfidf(ast_trees)\n",
    "    solutions_embedded[problem] = tfidf_vectors\n",
    "    solutions_traversal[problem] = [dfs_traversal(tree) for tree in ast_trees]\n",
    "    tfidf_params[problem] = (all_nodes, idf) \n",
    "    "
   ]
  },
  {
   "cell_type": "markdown",
   "id": "827347e8",
   "metadata": {},
   "source": [
    "## Compare Student Submission to the Solution Space"
   ]
  },
  {
   "cell_type": "code",
   "execution_count": 9,
   "id": "66701ada",
   "metadata": {},
   "outputs": [],
   "source": [
    "cache = {}\n",
    "def get_list_of_nodes(programName, dataInput):\n",
    "    if programName not in solutions:\n",
    "        return \":\"\n",
    "\n",
    "    min_op = 50\n",
    "    try:\n",
    "        submission = ast.parse(dataInput)\n",
    "        raise Exception\n",
    "    except:\n",
    "        submission = None\n",
    "        target = ast.parse(solutions[programName][0])\n",
    "        incorrect_ops = tree_edit_distance_with_operations(target, submission)\n",
    "    else:\n",
    "        # find two closest candidates for comparing the trees\n",
    "        submission_vec = compute_tfidf_ood(submission, *tfidf_params[programName])\n",
    "        dfs_tree = dfs_traversal(submission)\n",
    "        d_tfidf = []\n",
    "        for vec in solutions_embedded[programName]:\n",
    "            d_tfidf.append(euclidean_distance(submission_vec, vec))\n",
    "\n",
    "        sort_counter = 0\n",
    "        indice = np.argmin(d_tfidf)\n",
    "        while True:\n",
    "            sort_counter += 1\n",
    "            try:\n",
    "                sol_tfidf = solutions[programName][indice]\n",
    "                _ = ast.parse(sol_tfidf)\n",
    "                break\n",
    "            except:\n",
    "                indice = np.argsort(d_tfidf)[sort_counter:][0]\n",
    "\n",
    "\n",
    "        d_align = []\n",
    "        for tree in (solutions_traversal[programName]):\n",
    "            d_align.append(calculate_dissimilarity(dfs_tree, tree))\n",
    "        sol_align = solutions[programName][np.argmin(d_align)]\n",
    "        ops_tfidf = tree_edit_distance_with_operations(ast.parse(sol_tfidf), submission)\n",
    "\n",
    "        incorrect_ops = ops_tfidf\n",
    "        target = ast.parse(sol_tfidf)\n",
    "        \n",
    "\n",
    "    correct_ops = set_of_children(target).difference(incorrect_ops)\n",
    "    l = ','.join(list(correct_ops) + list(incorrect_ops)) + ':' + ','.join('1'*len(correct_ops)+'0'*len(incorrect_ops))\n",
    "    return l"
   ]
  },
  {
   "cell_type": "markdown",
   "id": "98316781",
   "metadata": {},
   "source": [
    "## Generate Transaction Data"
   ]
  },
  {
   "cell_type": "code",
   "execution_count": 10,
   "id": "63124d24",
   "metadata": {},
   "outputs": [],
   "source": [
    "cols = [\n",
    "    'Transaction Id',\n",
    "    'Anon Student Id',\n",
    "    'Session Id', # set to 1 for all\n",
    "    'Time',\n",
    "    'Level (Unit)', # homework no\n",
    "    'Problem Name',\n",
    "    'Problem Start Time',\n",
    "    'Input',\n",
    "    'Step Name',\n",
    "    'Outcome',\n",
    "    'KC (Binary-Node)',\n",
    "    'KC Category (Binary-Node)'\n",
    "]"
   ]
  },
  {
   "cell_type": "code",
   "execution_count": 11,
   "id": "31ea3e99",
   "metadata": {},
   "outputs": [],
   "source": [
    "from hashlib import md5\n",
    "\n",
    "def string_hash(string):\n",
    "    return md5(string.encode()).hexdigest()\n"
   ]
  },
  {
   "cell_type": "code",
   "execution_count": 12,
   "id": "16a71961",
   "metadata": {},
   "outputs": [],
   "source": [
    "from collections import defaultdict\n",
    "counters = defaultdict(int)\n",
    "\n",
    "user_counts = {semester:{} for semester in LIST_OF_SEMESTERS}\n",
    "\n",
    "import string\n",
    "table = str.maketrans('', '', string.ascii_lowercase)\n",
    "\n",
    "def user_counter(anonid, semester):\n",
    "    if anonid not in user_counts[semester]:\n",
    "        counters[semester] += 1\n",
    "        user_counts[semester][anonid] = f\"{semester.translate(table)}-S{counters[semester]:05d}\"\n",
    "    return user_counts[semester][anonid]"
   ]
  },
  {
   "cell_type": "code",
   "execution_count": 13,
   "id": "80ef51d2",
   "metadata": {},
   "outputs": [],
   "source": [
    "def populate_import_csv(data, semester, random_set=None):\n",
    "    df = pd.DataFrame()\n",
    "    df[cols[1]] = data['AnonID'].apply(user_counter, args=(semester,))\n",
    "    \n",
    "    if random_set is not None:\n",
    "        df = df[df['Anon Student Id'].isin(random_set)]\n",
    "    \n",
    "    df[cols[2]] = 1\n",
    "    df[cols[3]] = data['Timestamp']\n",
    "    df[cols[4]] = data['Assessment']\n",
    "    df[cols[5]] = data['ProblemName']\n",
    "    df[cols[6]] = data['Timestamp'] # str apply [:-6]\n",
    "    tqdm.pandas()\n",
    "\n",
    "    series = data.progress_apply(lambda x: get_list_of_nodes(x['ProblemName'], x['Input']), axis=1)\n",
    "\n",
    "    df[cols[9]] = series.apply(lambda x: x.split(':')[1])\n",
    "    df[cols[10]] = series.apply(lambda x: x.split(':')[0])\n",
    "\n",
    "    df[cols[11]] = ''\n",
    "    df = df.drop_duplicates(subset=[cols[1], cols[5]])\n",
    "    df = df.assign(**{cols[10]: df[cols[10]].str.split(','),\n",
    "                      cols[9]: df[cols[9]].str.split(',').apply(lambda x: x if '' in x else [float(i) for i in x])}).explode(\n",
    "        [cols[10], cols[9]])\n",
    "    df[cols[9]] = df[cols[9]].apply(lambda x: 'CORRECT' if x == 1.0 else 'INCORRECT')\n",
    "    df[cols[8]] = df[cols[10]]\n",
    "\n",
    "    df.reset_index()\n",
    "    return df"
   ]
  },
  {
   "cell_type": "code",
   "execution_count": 14,
   "id": "5dc50e9f",
   "metadata": {},
   "outputs": [],
   "source": [
    "student_dict = {}"
   ]
  },
  {
   "cell_type": "code",
   "execution_count": 15,
   "id": "2ca5a47a",
   "metadata": {
    "scrolled": true
   },
   "outputs": [
    {
     "data": {
      "application/vnd.jupyter.widget-view+json": {
       "model_id": "9aeba56b24ee4c2eb30fc01e6caba53b",
       "version_major": 2,
       "version_minor": 0
      },
      "text/plain": [
       "  0%|          | 0/13 [00:00<?, ?it/s]"
      ]
     },
     "metadata": {},
     "output_type": "display_data"
    },
    {
     "data": {
      "application/vnd.jupyter.widget-view+json": {
       "model_id": "f27373d7b5a84d2789da0fb16abcc05f",
       "version_major": 2,
       "version_minor": 0
      },
      "text/plain": [
       "  0%|          | 0/7623 [00:00<?, ?it/s]"
      ]
     },
     "metadata": {},
     "output_type": "display_data"
    },
    {
     "data": {
      "application/vnd.jupyter.widget-view+json": {
       "model_id": "3397175d7a974002ac17cce784d6e226",
       "version_major": 2,
       "version_minor": 0
      },
      "text/plain": [
       "  0%|          | 0/9080 [00:00<?, ?it/s]"
      ]
     },
     "metadata": {},
     "output_type": "display_data"
    },
    {
     "data": {
      "application/vnd.jupyter.widget-view+json": {
       "model_id": "64c09ca2c7a64423ae5a5d3dd7a2a6e5",
       "version_major": 2,
       "version_minor": 0
      },
      "text/plain": [
       "  0%|          | 0/9924 [00:00<?, ?it/s]"
      ]
     },
     "metadata": {},
     "output_type": "display_data"
    },
    {
     "data": {
      "application/vnd.jupyter.widget-view+json": {
       "model_id": "e5bd91de427240fc9c80ef8e929cae59",
       "version_major": 2,
       "version_minor": 0
      },
      "text/plain": [
       "  0%|          | 0/11837 [00:00<?, ?it/s]"
      ]
     },
     "metadata": {},
     "output_type": "display_data"
    },
    {
     "data": {
      "application/vnd.jupyter.widget-view+json": {
       "model_id": "16fcbecdb31048edbaaca0327971edab",
       "version_major": 2,
       "version_minor": 0
      },
      "text/plain": [
       "  0%|          | 0/9159 [00:00<?, ?it/s]"
      ]
     },
     "metadata": {},
     "output_type": "display_data"
    },
    {
     "data": {
      "application/vnd.jupyter.widget-view+json": {
       "model_id": "dfd3deaea0f94acb8d5c60dfdb93efb0",
       "version_major": 2,
       "version_minor": 0
      },
      "text/plain": [
       "  0%|          | 0/10605 [00:00<?, ?it/s]"
      ]
     },
     "metadata": {},
     "output_type": "display_data"
    },
    {
     "data": {
      "application/vnd.jupyter.widget-view+json": {
       "model_id": "29416b3ef6024481ac9d29a3015baaa6",
       "version_major": 2,
       "version_minor": 0
      },
      "text/plain": [
       "  0%|          | 0/19780 [00:00<?, ?it/s]"
      ]
     },
     "metadata": {},
     "output_type": "display_data"
    },
    {
     "data": {
      "application/vnd.jupyter.widget-view+json": {
       "model_id": "d82c61b61721433ca504066c3e1c614b",
       "version_major": 2,
       "version_minor": 0
      },
      "text/plain": [
       "  0%|          | 0/21157 [00:00<?, ?it/s]"
      ]
     },
     "metadata": {},
     "output_type": "display_data"
    },
    {
     "data": {
      "application/vnd.jupyter.widget-view+json": {
       "model_id": "3cc3040ac16b4ae38d0cf9969cb39045",
       "version_major": 2,
       "version_minor": 0
      },
      "text/plain": [
       "  0%|          | 0/16350 [00:00<?, ?it/s]"
      ]
     },
     "metadata": {},
     "output_type": "display_data"
    },
    {
     "data": {
      "application/vnd.jupyter.widget-view+json": {
       "model_id": "a4f115c10de44bda9c8a062f098b70e5",
       "version_major": 2,
       "version_minor": 0
      },
      "text/plain": [
       "  0%|          | 0/11470 [00:00<?, ?it/s]"
      ]
     },
     "metadata": {},
     "output_type": "display_data"
    },
    {
     "data": {
      "application/vnd.jupyter.widget-view+json": {
       "model_id": "2dd37b93ca3d4f19917ac3fac659bfd0",
       "version_major": 2,
       "version_minor": 0
      },
      "text/plain": [
       "  0%|          | 0/13 [00:00<?, ?it/s]"
      ]
     },
     "metadata": {},
     "output_type": "display_data"
    },
    {
     "ename": "KeyError",
     "evalue": "'Fall22'",
     "output_type": "error",
     "traceback": [
      "\u001b[0;31m---------------------------------------------------------------------------\u001b[0m",
      "\u001b[0;31mKeyError\u001b[0m                                  Traceback (most recent call last)",
      "Input \u001b[0;32mIn [15]\u001b[0m, in \u001b[0;36m<cell line: 1>\u001b[0;34m()\u001b[0m\n\u001b[1;32m     10\u001b[0m \u001b[38;5;28;01mif\u001b[39;00m \u001b[38;5;28mlen\u001b[39m(data) \u001b[38;5;241m<\u001b[39m\u001b[38;5;241m=\u001b[39m \u001b[38;5;241m0\u001b[39m:\n\u001b[1;32m     11\u001b[0m     \u001b[38;5;28;01mcontinue\u001b[39;00m\n\u001b[0;32m---> 12\u001b[0m df \u001b[38;5;241m=\u001b[39m \u001b[43mpopulate_import_csv\u001b[49m\u001b[43m(\u001b[49m\u001b[43mdata\u001b[49m\u001b[43m,\u001b[49m\u001b[43m \u001b[49m\u001b[43mroot\u001b[49m\u001b[38;5;241;43m.\u001b[39;49m\u001b[43msplit\u001b[49m\u001b[43m(\u001b[49m\u001b[38;5;124;43m'\u001b[39;49m\u001b[38;5;124;43m/\u001b[39;49m\u001b[38;5;124;43m'\u001b[39;49m\u001b[43m)\u001b[49m\u001b[43m[\u001b[49m\u001b[38;5;241;43m-\u001b[39;49m\u001b[38;5;241;43m1\u001b[39;49m\u001b[43m]\u001b[49m\u001b[43m,\u001b[49m\u001b[43m \u001b[49m\u001b[43mrandom_set\u001b[49m\u001b[43m)\u001b[49m\n\u001b[1;32m     13\u001b[0m \u001b[38;5;28;01mif\u001b[39;00m random_set \u001b[38;5;129;01mis\u001b[39;00m \u001b[38;5;28;01mNone\u001b[39;00m:\n\u001b[1;32m     14\u001b[0m     random_set \u001b[38;5;241m=\u001b[39m np\u001b[38;5;241m.\u001b[39mrandom\u001b[38;5;241m.\u001b[39mchoice(df[\u001b[38;5;124m'\u001b[39m\u001b[38;5;124mAnon Student Id\u001b[39m\u001b[38;5;124m'\u001b[39m]\u001b[38;5;241m.\u001b[39munique(), STUDENT_SAMPLE_SIZE, replace\u001b[38;5;241m=\u001b[39m\u001b[38;5;28;01mFalse\u001b[39;00m)\n",
      "Input \u001b[0;32mIn [13]\u001b[0m, in \u001b[0;36mpopulate_import_csv\u001b[0;34m(data, semester, random_set)\u001b[0m\n\u001b[1;32m      1\u001b[0m \u001b[38;5;28;01mdef\u001b[39;00m \u001b[38;5;21mpopulate_import_csv\u001b[39m(data, semester, random_set\u001b[38;5;241m=\u001b[39m\u001b[38;5;28;01mNone\u001b[39;00m):\n\u001b[1;32m      2\u001b[0m     df \u001b[38;5;241m=\u001b[39m pd\u001b[38;5;241m.\u001b[39mDataFrame()\n\u001b[0;32m----> 3\u001b[0m     df[cols[\u001b[38;5;241m1\u001b[39m]] \u001b[38;5;241m=\u001b[39m \u001b[43mdata\u001b[49m\u001b[43m[\u001b[49m\u001b[38;5;124;43m'\u001b[39;49m\u001b[38;5;124;43mAnonID\u001b[39;49m\u001b[38;5;124;43m'\u001b[39;49m\u001b[43m]\u001b[49m\u001b[38;5;241;43m.\u001b[39;49m\u001b[43mapply\u001b[49m\u001b[43m(\u001b[49m\u001b[43muser_counter\u001b[49m\u001b[43m,\u001b[49m\u001b[43m \u001b[49m\u001b[43margs\u001b[49m\u001b[38;5;241;43m=\u001b[39;49m\u001b[43m(\u001b[49m\u001b[43msemester\u001b[49m\u001b[43m,\u001b[49m\u001b[43m)\u001b[49m\u001b[43m)\u001b[49m\n\u001b[1;32m      5\u001b[0m     \u001b[38;5;28;01mif\u001b[39;00m random_set \u001b[38;5;129;01mis\u001b[39;00m \u001b[38;5;129;01mnot\u001b[39;00m \u001b[38;5;28;01mNone\u001b[39;00m:\n\u001b[1;32m      6\u001b[0m         df \u001b[38;5;241m=\u001b[39m df[df[\u001b[38;5;124m'\u001b[39m\u001b[38;5;124mAnon Student Id\u001b[39m\u001b[38;5;124m'\u001b[39m]\u001b[38;5;241m.\u001b[39misin(random_set)]\n",
      "File \u001b[0;32m~/opt/anaconda3/lib/python3.9/site-packages/pandas/core/series.py:4433\u001b[0m, in \u001b[0;36mSeries.apply\u001b[0;34m(self, func, convert_dtype, args, **kwargs)\u001b[0m\n\u001b[1;32m   4323\u001b[0m \u001b[38;5;28;01mdef\u001b[39;00m \u001b[38;5;21mapply\u001b[39m(\n\u001b[1;32m   4324\u001b[0m     \u001b[38;5;28mself\u001b[39m,\n\u001b[1;32m   4325\u001b[0m     func: AggFuncType,\n\u001b[0;32m   (...)\u001b[0m\n\u001b[1;32m   4328\u001b[0m     \u001b[38;5;241m*\u001b[39m\u001b[38;5;241m*\u001b[39mkwargs,\n\u001b[1;32m   4329\u001b[0m ) \u001b[38;5;241m-\u001b[39m\u001b[38;5;241m>\u001b[39m DataFrame \u001b[38;5;241m|\u001b[39m Series:\n\u001b[1;32m   4330\u001b[0m     \u001b[38;5;124;03m\"\"\"\u001b[39;00m\n\u001b[1;32m   4331\u001b[0m \u001b[38;5;124;03m    Invoke function on values of Series.\u001b[39;00m\n\u001b[1;32m   4332\u001b[0m \n\u001b[0;32m   (...)\u001b[0m\n\u001b[1;32m   4431\u001b[0m \u001b[38;5;124;03m    dtype: float64\u001b[39;00m\n\u001b[1;32m   4432\u001b[0m \u001b[38;5;124;03m    \"\"\"\u001b[39;00m\n\u001b[0;32m-> 4433\u001b[0m     \u001b[38;5;28;01mreturn\u001b[39;00m \u001b[43mSeriesApply\u001b[49m\u001b[43m(\u001b[49m\u001b[38;5;28;43mself\u001b[39;49m\u001b[43m,\u001b[49m\u001b[43m \u001b[49m\u001b[43mfunc\u001b[49m\u001b[43m,\u001b[49m\u001b[43m \u001b[49m\u001b[43mconvert_dtype\u001b[49m\u001b[43m,\u001b[49m\u001b[43m \u001b[49m\u001b[43margs\u001b[49m\u001b[43m,\u001b[49m\u001b[43m \u001b[49m\u001b[43mkwargs\u001b[49m\u001b[43m)\u001b[49m\u001b[38;5;241;43m.\u001b[39;49m\u001b[43mapply\u001b[49m\u001b[43m(\u001b[49m\u001b[43m)\u001b[49m\n",
      "File \u001b[0;32m~/opt/anaconda3/lib/python3.9/site-packages/pandas/core/apply.py:1082\u001b[0m, in \u001b[0;36mSeriesApply.apply\u001b[0;34m(self)\u001b[0m\n\u001b[1;32m   1078\u001b[0m \u001b[38;5;28;01mif\u001b[39;00m \u001b[38;5;28misinstance\u001b[39m(\u001b[38;5;28mself\u001b[39m\u001b[38;5;241m.\u001b[39mf, \u001b[38;5;28mstr\u001b[39m):\n\u001b[1;32m   1079\u001b[0m     \u001b[38;5;66;03m# if we are a string, try to dispatch\u001b[39;00m\n\u001b[1;32m   1080\u001b[0m     \u001b[38;5;28;01mreturn\u001b[39;00m \u001b[38;5;28mself\u001b[39m\u001b[38;5;241m.\u001b[39mapply_str()\n\u001b[0;32m-> 1082\u001b[0m \u001b[38;5;28;01mreturn\u001b[39;00m \u001b[38;5;28;43mself\u001b[39;49m\u001b[38;5;241;43m.\u001b[39;49m\u001b[43mapply_standard\u001b[49m\u001b[43m(\u001b[49m\u001b[43m)\u001b[49m\n",
      "File \u001b[0;32m~/opt/anaconda3/lib/python3.9/site-packages/pandas/core/apply.py:1137\u001b[0m, in \u001b[0;36mSeriesApply.apply_standard\u001b[0;34m(self)\u001b[0m\n\u001b[1;32m   1131\u001b[0m         values \u001b[38;5;241m=\u001b[39m obj\u001b[38;5;241m.\u001b[39mastype(\u001b[38;5;28mobject\u001b[39m)\u001b[38;5;241m.\u001b[39m_values\n\u001b[1;32m   1132\u001b[0m         \u001b[38;5;66;03m# error: Argument 2 to \"map_infer\" has incompatible type\u001b[39;00m\n\u001b[1;32m   1133\u001b[0m         \u001b[38;5;66;03m# \"Union[Callable[..., Any], str, List[Union[Callable[..., Any], str]],\u001b[39;00m\n\u001b[1;32m   1134\u001b[0m         \u001b[38;5;66;03m# Dict[Hashable, Union[Union[Callable[..., Any], str],\u001b[39;00m\n\u001b[1;32m   1135\u001b[0m         \u001b[38;5;66;03m# List[Union[Callable[..., Any], str]]]]]\"; expected\u001b[39;00m\n\u001b[1;32m   1136\u001b[0m         \u001b[38;5;66;03m# \"Callable[[Any], Any]\"\u001b[39;00m\n\u001b[0;32m-> 1137\u001b[0m         mapped \u001b[38;5;241m=\u001b[39m \u001b[43mlib\u001b[49m\u001b[38;5;241;43m.\u001b[39;49m\u001b[43mmap_infer\u001b[49m\u001b[43m(\u001b[49m\n\u001b[1;32m   1138\u001b[0m \u001b[43m            \u001b[49m\u001b[43mvalues\u001b[49m\u001b[43m,\u001b[49m\n\u001b[1;32m   1139\u001b[0m \u001b[43m            \u001b[49m\u001b[43mf\u001b[49m\u001b[43m,\u001b[49m\u001b[43m  \u001b[49m\u001b[38;5;66;43;03m# type: ignore[arg-type]\u001b[39;49;00m\n\u001b[1;32m   1140\u001b[0m \u001b[43m            \u001b[49m\u001b[43mconvert\u001b[49m\u001b[38;5;241;43m=\u001b[39;49m\u001b[38;5;28;43mself\u001b[39;49m\u001b[38;5;241;43m.\u001b[39;49m\u001b[43mconvert_dtype\u001b[49m\u001b[43m,\u001b[49m\n\u001b[1;32m   1141\u001b[0m \u001b[43m        \u001b[49m\u001b[43m)\u001b[49m\n\u001b[1;32m   1143\u001b[0m \u001b[38;5;28;01mif\u001b[39;00m \u001b[38;5;28mlen\u001b[39m(mapped) \u001b[38;5;129;01mand\u001b[39;00m \u001b[38;5;28misinstance\u001b[39m(mapped[\u001b[38;5;241m0\u001b[39m], ABCSeries):\n\u001b[1;32m   1144\u001b[0m     \u001b[38;5;66;03m# GH#43986 Need to do list(mapped) in order to get treated as nested\u001b[39;00m\n\u001b[1;32m   1145\u001b[0m     \u001b[38;5;66;03m#  See also GH#25959 regarding EA support\u001b[39;00m\n\u001b[1;32m   1146\u001b[0m     \u001b[38;5;28;01mreturn\u001b[39;00m obj\u001b[38;5;241m.\u001b[39m_constructor_expanddim(\u001b[38;5;28mlist\u001b[39m(mapped), index\u001b[38;5;241m=\u001b[39mobj\u001b[38;5;241m.\u001b[39mindex)\n",
      "File \u001b[0;32m~/opt/anaconda3/lib/python3.9/site-packages/pandas/_libs/lib.pyx:2870\u001b[0m, in \u001b[0;36mpandas._libs.lib.map_infer\u001b[0;34m()\u001b[0m\n",
      "File \u001b[0;32m~/opt/anaconda3/lib/python3.9/site-packages/pandas/core/apply.py:138\u001b[0m, in \u001b[0;36mApply.__init__.<locals>.f\u001b[0;34m(x)\u001b[0m\n\u001b[1;32m    137\u001b[0m \u001b[38;5;28;01mdef\u001b[39;00m \u001b[38;5;21mf\u001b[39m(x):\n\u001b[0;32m--> 138\u001b[0m     \u001b[38;5;28;01mreturn\u001b[39;00m \u001b[43mfunc\u001b[49m\u001b[43m(\u001b[49m\u001b[43mx\u001b[49m\u001b[43m,\u001b[49m\u001b[43m \u001b[49m\u001b[38;5;241;43m*\u001b[39;49m\u001b[43margs\u001b[49m\u001b[43m,\u001b[49m\u001b[43m \u001b[49m\u001b[38;5;241;43m*\u001b[39;49m\u001b[38;5;241;43m*\u001b[39;49m\u001b[43mkwargs\u001b[49m\u001b[43m)\u001b[49m\n",
      "Input \u001b[0;32mIn [12]\u001b[0m, in \u001b[0;36muser_counter\u001b[0;34m(anonid, semester)\u001b[0m\n\u001b[1;32m      9\u001b[0m \u001b[38;5;28;01mdef\u001b[39;00m \u001b[38;5;21muser_counter\u001b[39m(anonid, semester):\n\u001b[0;32m---> 10\u001b[0m     \u001b[38;5;28;01mif\u001b[39;00m anonid \u001b[38;5;129;01mnot\u001b[39;00m \u001b[38;5;129;01min\u001b[39;00m \u001b[43muser_counts\u001b[49m\u001b[43m[\u001b[49m\u001b[43msemester\u001b[49m\u001b[43m]\u001b[49m:\n\u001b[1;32m     11\u001b[0m         counters[semester] \u001b[38;5;241m+\u001b[39m\u001b[38;5;241m=\u001b[39m \u001b[38;5;241m1\u001b[39m\n\u001b[1;32m     12\u001b[0m         user_counts[semester][anonid] \u001b[38;5;241m=\u001b[39m \u001b[38;5;124mf\u001b[39m\u001b[38;5;124m\"\u001b[39m\u001b[38;5;132;01m{\u001b[39;00msemester\u001b[38;5;241m.\u001b[39mtranslate(table)\u001b[38;5;132;01m}\u001b[39;00m\u001b[38;5;124m-S\u001b[39m\u001b[38;5;132;01m{\u001b[39;00mcounters[semester]\u001b[38;5;132;01m:\u001b[39;00m\u001b[38;5;124m05d\u001b[39m\u001b[38;5;132;01m}\u001b[39;00m\u001b[38;5;124m\"\u001b[39m\n",
      "\u001b[0;31mKeyError\u001b[0m: 'Fall22'"
     ]
    }
   ],
   "source": [
    "for root, dirs, files in os.walk(STUDENT_INTERACTION_DATA):\n",
    "    if len(dirs) > 0:\n",
    "        continue\n",
    "    users = {} \n",
    "    np.random.seed(42)\n",
    "    random_set = None\n",
    "    student_list = []\n",
    "    for file in tqdm(files):\n",
    "        data = pd.read_csv(os.path.join(root, file))\n",
    "        if len(data) <= 0:\n",
    "            continue\n",
    "        df = populate_import_csv(data, root.split('/')[-1], random_set)\n",
    "        if random_set is None:\n",
    "            random_set = np.random.choice(df['Anon Student Id'].unique(), STUDENT_SAMPLE_SIZE, replace=False)\n",
    "            df = df[df['Anon Student Id'].isin(random_set)]\n",
    "        student_list.extend(df['Anon Student Id'].unique())\n",
    "        os.makedirs(os.path.join(OUTPUT_FOLDER, root.split('/')[-1]), exist_ok=True)\n",
    "        df.to_csv(os.path.join(OUTPUT_FOLDER, root.split('/')[-1], file[:-4] + '.txt'), sep='\\t')\n"
   ]
  }
 ],
 "metadata": {
  "kernelspec": {
   "display_name": "Python 3 (ipykernel)",
   "language": "python",
   "name": "python3"
  },
  "language_info": {
   "codemirror_mode": {
    "name": "ipython",
    "version": 3
   },
   "file_extension": ".py",
   "mimetype": "text/x-python",
   "name": "python",
   "nbconvert_exporter": "python",
   "pygments_lexer": "ipython3",
   "version": "3.9.12"
  }
 },
 "nbformat": 4,
 "nbformat_minor": 5
}
